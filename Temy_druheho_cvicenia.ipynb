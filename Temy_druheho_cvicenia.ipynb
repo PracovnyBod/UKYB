{
 "cells": [
  {
   "cell_type": "code",
   "execution_count": 1,
   "metadata": {
    "collapsed": true
   },
   "outputs": [],
   "source": [
    "%matplotlib inline\n",
    "# %matplotlib nbagg"
   ]
  },
  {
   "cell_type": "code",
   "execution_count": 2,
   "metadata": {
    "collapsed": false
   },
   "outputs": [],
   "source": [
    "import matplotlib.pyplot as plt"
   ]
  },
  {
   "cell_type": "code",
   "execution_count": 3,
   "metadata": {
    "collapsed": true
   },
   "outputs": [],
   "source": [
    "import numpy as np\n",
    "from scipy.integrate import odeint"
   ]
  },
  {
   "cell_type": "markdown",
   "metadata": {},
   "source": [
    "# O numerickom riešení diferenciálnych rovníc\n",
    "\n",
    "\n",
    "\n",
    "Majme rovnicu opisujúcu dynamiku rotačného pohybu kyvadla. Rovnica je v tvare\n",
    "\n",
    "$$\n",
    "    ml^2 \\ddot{\\varphi}(t) + \\beta \\dot{\\varphi}(t) + mgl\\sin{\\varphi(t)} = u(t)\n",
    "$$\n",
    "\n",
    "Samozrejme, ide o diferenciálnu rovnicu. Presnejšie o obyčajnú diferenciálnu rovnicu 2. rádu, ktorá je nehomogénna (vyskytuje sa v nej „externý signál“ (vstup)). Cieľom je nájsť numerické riešenie tejto rovnice pre dané začiatočné podmienky a pre prípadné dané vstupy (vstupné signály).\n",
    "\n",
    "\n",
    "\n",
    "Pre úplnosť: kyvadlo je znázornené na nasledujúcom obrázku:\n",
    "<img src=\"obr_Kyvadlo.png\" width=\"400px\"/>\n",
    "Hmotný bod s hmotnosťou $m$ [kg] pripevnený na ramene so zanedbateľnou hmotnosťou a dĺžkou $l$ [m] kmitá, $o$ označuje os otáčania kolmú na rovinu, v ktorej kyvadlo kmitá. Kmity sú tlmené viskóznym trením s koeficientom $\\beta$ [kg m$^2$ s$^{-1}$]. Uhol medzi zvislicou a ramenom kyvadla je označený $\\varphi$ [rad] a gravitačné zrýchlenie $g$ [m s$^{-2}$]. Signál $u(t)$ [kg m$^2$ s$^{-2}$] je externý moment sily pôsobiaci na rameno kyvadla, $\\dot{\\varphi}(t)$ [rad s$^{-1}$] je uhlová rýchlosť a $\\ddot{\\varphi}(t)$ [rad s$^{-2}$] je uhlové zrýchlenie ramena kyvadla. Číselné hodnoty parametrov kyvadla sú nasledovné:"
   ]
  },
  {
   "cell_type": "code",
   "execution_count": 4,
   "metadata": {
    "collapsed": false
   },
   "outputs": [],
   "source": [
    "m = 1.0\n",
    "l = 1.0\n",
    "g = 9.81\n",
    "beta = 2 * 0.5 * np.sqrt(g/l)"
   ]
  },
  {
   "cell_type": "markdown",
   "metadata": {},
   "source": [
    "Analytické riešenie diferenciálnej rovnice je v podstate nejaká funkcia času (a prípadne iných veličín). Numerické riešenie je postuppnosť hodnôt, číselných hodnôt, ktoré pri daných predpokladoch vyhovujú diferenciálnej rovnici. Je postupnosť hodnôt - vektor hodnôt, ku ktorému prislúcha časový vektor určujúci časovú postupnosť hodnôt numerického riešenia. Tu sme vynechali pár miliónov detailov, ale snáď sa dá vytušiť, čo sa tu myslí pod numerickým riešením.\n",
    "\n",
    "## ODE solver\n",
    "\n",
    "Pre hľadanie numerického riešenia využijeme ODE solver. ODE je skratka pre obyčajné diferenciálne rovnice (ordinary differential equation).\n",
    "\n",
    "Úlohou ODE solvera je nájsť numerické riešenie na základe rovnice (diferenciálnej), ktorú je možné vo všeobecnosti zapísať v tvare\n",
    "\n",
    "$$\n",
    "    \\dot x(t) = f \\left( t, x(t), \\ldots \\right)\n",
    "$$\n",
    "\n",
    "kde $f$ je funkcia, ktorej argumenty sú čas $t$, prirodzene, samotný výstupný (hľadaný, neznámy) signál $x(t)$ a prípadne iné ďalšie parametre či veličiny - napríklad externý vstup. Uvedená rovnica doslova predpisuje aká je časová zmena signálu $x(t)$. Časová zmena signálu, inými slovami časová derivácia (derivácia podľa času) je označená ako $\\dot x(t)$.\n",
    "\n",
    "Ak teda do funkcie $f$ dosadíme hodnoty argumentov (čas, signál $x(t)$, a prípadne iné), získame hodnotu časovej zmeny $\\dot x(t)$. Na základe informácie o $\\dot x(t)$, ktorá zodpovedá aktuálnemu (dosadenému) signálu $x(t)$, môžeme určiť hodnotu $x(t)$ o nejaký čas neskôr. Túto novú hodnotu $x(t)$ možno opäť dosadiť do funkcie $f$ a následne nájsť ďalšiu ešte ďalej v čase - atď. ODE solver využíva práve tento jednoduchý princíp pre postupné hľadanie hodnôt (numerických hodnôt) signálu $x(t)$.\n",
    "\n",
    "Vo všeobecnosti sa uvedený princíp nazýva numerická integrácia. ODE solver teda numericky integruje. Je množstvo metód pre numerickú integráciu, ktoré sa líšia spôsobom riešenia problémov súvisiacich so samotným procesom numerickej integrácie (voľba (optimalizácia) časového kroku integrácie, zohľadnenie matematických vlastností daného typu diferenciálnych rovníc a iné). ODE solvre sa môžu líšiť aj samotnou implementáciou niektorej z metód numerickej integrácie. Podrobnejší opis ODE solvera je nad rámec tohto textu.\n",
    "\n",
    "## Rovnica vyššieho rádu ako sústava rovníc 1. rádu\n",
    "\n",
    "ODE solverz princípu pracuje s diferenciálnou rovnicou prvého rádu, prípadne so sústavou diferenciálnych rovníc 1. rádu. Napríklad sústavu dvoch rovníc prvého rádu je možné vo všeobecnosti zapísať v tvare\n",
    "\n",
    "$$\n",
    "    \\begin{bmatrix} \\dot x_1(t) \\\\ \\dot x_2(t) \\end{bmatrix} = F \\left( t, \\begin{bmatrix} x_1(t) \\\\ x_2(t) \\end{bmatrix}, \\ldots \\right)\n",
    "$$\n",
    "\n",
    "V našom prípade hľadáme riešenie pre rovnicu druhého rádu. Každú diferenciálnu rovnicu vyššieho rádu je možné zapísať ako sústavu rovníc prvého rádu. V taketo novej sústave rovníc, vo všeobecnosti, vznikli nové veličiny (signály), ktoré sa vo všeobecnosti môžu líšiť od pôvodných veličín (signálov) v pôvodnej rovnici vyššieho rádu.\n",
    "\n",
    "Nové veličiny vystupujúce v sústave rovníc sa v teórii systémov súhrnne označujú ako stav systému (stavové veličiny systému). Ak poznáme aktuálny stav systému potom spravidla vieme určiť predchádzajúce aj budúce stavy (vo všeobecnosti).\n",
    "\n",
    "Napr. v rovnici kyvadla vystupujú veličiny (signály) $\\ddot \\varphi(t)$, $\\dot \\varphi(t)$ a $\\varphi(t)$. Je zrejmé (možno nie nad slnko jasné), že ako stav systému je možné zvoliť veličiny $\\varphi(t)$ a $\\dot \\varphi(t)$, teda polohu a uhlovú rýchlosť kyvadla. Ak poznáme tieto, poznáme celú históriu a budúcnosť pohybu kyvadla.\n",
    "\n",
    "Môže existovať viac možností voľby stavových veličín. Pri lineárnych systémoch je možností nekonečne veľa (nekonečne veľa stavových priestorov). Z praktického hľadiska však majú význam len niektoré voľby - napr. pri pohybových systémoch, akým je kyvadlo, sú to prirodzene polohy, rýchlosť, zrýchlenie, trh atď., v závislosti od rádu systému.\n",
    "\n",
    "Jednou z možností ako previesť rovnicu vyššieho rádu na sústavu rovníc prvého rádu je nasledovný postup. V tomto prípade je zhodou okolností výsledkom aj prakticky využiteľný stavový priestor (stavovée veličiny $\\varphi(t)$ a $\\dot \\varphi(t)$).\n",
    "\n",
    "Nech\n",
    "$$\n",
    "x_1(t) = \\varphi(t)\n",
    "$$\n",
    "potom\n",
    "$$\n",
    "\\dot x_1(t) = \\dot \\varphi(t)\n",
    "$$\n",
    "Ďalej nech \n",
    "$$\n",
    "\\dot x_1(t) = \\dot \\varphi(t) = x_2(t)\n",
    "$$\n",
    "a to znamená, že\n",
    "$$\n",
    "\\dot x_2(t) = \\ddot \\varphi(t)\n",
    "$$\n",
    "Tým sme získali veličiny $x_1(t) = \\varphi(t)$ a $x_2(t) = \\dot \\varphi(t)$. Je možné zostaviť stavový vektor $x = \\begin{bmatrix} x_1(t) & x_2(t) \\end{bmatrix}^\\mathsf T$ a teda $\\dot x = \\begin{bmatrix} \\dot x_1(t) & \\dot x_2(t) \\end{bmatrix}^\\mathsf T$.\n",
    "\n",
    "Cieľom je konkretizovať funkciu $F$ v rovnici\n",
    "$$\n",
    "    \\dot x = F(t, x, \\ldots)\n",
    "$$\n",
    "čo je kompaktný zápis sústavy\n",
    "$$\n",
    "\\begin{align}\n",
    "    \\dot x_1(t) &= F_1 \\left(t, x_1(t), x_2(t), \\ldots \\right) \\\\\n",
    "    \\dot x_2(t) &= F_2 \\left(t, x_1(t), x_2(t), \\ldots \\right)\n",
    "\\end{align}\n",
    "$$\n",
    "\n",
    "Prvú rovnicu v tomto prípade máme:\n",
    "$$\n",
    "    \\dot x_1(t) = x_2(t)\n",
    "$$\n",
    "Druhá rovnica vyplynie z postrehu, že pôvodnú rovnicu druhého rádu možno zapísať v tvare\n",
    "$$\n",
    "\\begin{align*}\n",
    "    \\ddot \\varphi(t) &= -\\frac{\\beta}{ml^2}\\dot\\varphi(t) - \\frac{g}{l} \\sin\\left( \\varphi(t) \\right) + \\frac{1}{ml^2} u(t) \\\\\n",
    "                     &= -\\frac{\\beta}{ml^2} x_2(t) - \\frac{g}{l} \\sin\\left( x_1(t) \\right) + \\frac{1}{ml^2} u(t)\n",
    "\\end{align*}\n",
    "$$\n",
    "kde sú využité novo zavedené stavové veličiny $x_1(t)$ a $x_2(t)$. Je zrejmé, že druhá rovnica sústavy je\n",
    "$$\n",
    "    \\dot x_2(t) = -\\frac{\\beta}{ml^2} x_2(t) - \\frac{g}{l} \\sin\\left( x_1(t) \\right) + \\frac{1}{ml^2} u(t)\n",
    "$$\n",
    "a teda rovnice kyvadla v stavovom priestore sú\n",
    "$$\n",
    "    \\begin{bmatrix} \\dot x_1(t) \\\\ \\dot x_2(t)  \\end{bmatrix} = \\begin{bmatrix} x_2(t) \\\\ -\\frac{\\beta}{ml^2} x_2(t) - \\frac{g}{l} \\sin\\left( x_1(t) \\right)  \\end{bmatrix} + \\begin{bmatrix} 0 \\\\ \\frac{1}{ml^2} \\end{bmatrix} u(t)\n",
    "$$\n",
    "čím je funkcia $F$ jasne stanovená (skonkretizovaná) a sústava spĺňa požiadanvky pre využitie v ODE solveri."
   ]
  },
  {
   "cell_type": "markdown",
   "metadata": {},
   "source": [
    "## Používanie ODE solvera\n",
    "\n",
    "ODE solver ako funkcia v programe môže mať napríklad nasledujúce vstupy (argumenty) a výstupy:\n",
    "\n",
    "```\n",
    "x = odesolver(fcnF, init, timeVect)\n",
    "```\n",
    "kde `x` je, samozrejme, hľadané numerické riešenie. Prvým argumentom je funkcia, ktorá implementuje sústavu diferenciálnych rovníc v zmysle predchádzajúceho textu. `init` označuje začiatočné hodnoty stavových veličín. `timeVect` označuje časové okamihy (vzorky), v ktorých hľadáme hodnoty numerického riešenia.\n",
    "\n",
    "Knižnica <a href=\"https://www.scipy.org/\">SciPy</a>, presnejšie <a href=\"https://docs.scipy.org/doc/scipy-0.18.1/reference/integrate.html\">scipy.integrate</a> obsahuje ODEsolver s názvom `odeint`. Vytvorme funkciu `fcnF` pre tento ODE solver:"
   ]
  },
  {
   "cell_type": "code",
   "execution_count": 5,
   "metadata": {
    "collapsed": true
   },
   "outputs": [],
   "source": [
    "def fcn_rovniceKyvadla(x, t, u):\n",
    "\n",
    "    x_1, x_2 = x\n",
    "\n",
    "    dotx_1 = x_2\n",
    "    dotx_2 = -(beta/m*l**2) * x_2 - (g/l) * np.sin(x_1) + (1.0/m*l**2) * u\n",
    "\n",
    "    return [dotx_1, dotx_2]"
   ]
  },
  {
   "cell_type": "markdown",
   "metadata": {
    "collapsed": true
   },
   "source": [
    "Vstupný externý moment sily uvažujme na teraz nulový:"
   ]
  },
  {
   "cell_type": "code",
   "execution_count": 6,
   "metadata": {
    "collapsed": true
   },
   "outputs": [],
   "source": [
    "u = 0"
   ]
  },
  {
   "cell_type": "markdown",
   "metadata": {
    "collapsed": true
   },
   "source": [
    "Definujme časový vektor, ktorý určí pre aké časové okamihy ODE solver vráti numerické riešenie:"
   ]
  },
  {
   "cell_type": "code",
   "execution_count": 7,
   "metadata": {
    "collapsed": false
   },
   "outputs": [],
   "source": [
    "timeVect = np.arange(0, 5.1, 0.1)"
   ]
  },
  {
   "cell_type": "markdown",
   "metadata": {
    "collapsed": true
   },
   "source": [
    "Zavolajme ODE solver, pričom ostáva zvoliť začiatočné podmienky - začiatočný stav kyvadla. Nech začiatočný stav je $x_1 = 0.25$ [rad] a $x_2 = 0$ [rad/s]."
   ]
  },
  {
   "cell_type": "code",
   "execution_count": 8,
   "metadata": {
    "collapsed": true
   },
   "outputs": [],
   "source": [
    "x = odeint(fcn_rovniceKyvadla,\n",
    "           [0.25, 0],   # začiatočné podmienky\n",
    "           timeVect,\n",
    "           args=(u,),\n",
    "           )"
   ]
  },
  {
   "cell_type": "markdown",
   "metadata": {},
   "source": [
    "Premenná `x` teraz obsahuje dva stĺpce - prvý stĺpec (stĺpec číslo 0) je prvá stavová veličina a druhý stĺpec (stĺpec číslo 1) je druhá stavová veličina.\n",
    "\n",
    "Nakreslime vypočítané riešenie:"
   ]
  },
  {
   "cell_type": "code",
   "execution_count": 9,
   "metadata": {
    "collapsed": false
   },
   "outputs": [
    {
     "data": {
      "text/plain": [
       "<matplotlib.legend.Legend at 0xb40a588>"
      ]
     },
     "execution_count": 9,
     "metadata": {},
     "output_type": "execute_result"
    },
    {
     "data": {
      "image/png": "[encoded data removed]",
      "text/plain": [
       "<matplotlib.figure.Figure at 0xb40a5c0>"
      ]
     },
     "metadata": {},
     "output_type": "display_data"
    }
   ],
   "source": [
    "plt.plot(timeVect, x)\n",
    "plt.xlabel(u'čas [s]')\n",
    "plt.legend(['$x_1(t)$ [rad]', '$x_2(t)$ [rad/s]'])"
   ]
  },
  {
   "cell_type": "markdown",
   "metadata": {
    "collapsed": true
   },
   "source": [
    "Nakreslime závislosť prvej stavovej veličiny (poloha kyvadla, alebo teda uhol kyvadla) od času, pričom prvú stavovú veličinu prepočítajme z radiánov na stupne:"
   ]
  },
  {
   "cell_type": "code",
   "execution_count": 10,
   "metadata": {
    "collapsed": false
   },
   "outputs": [
    {
     "data": {
      "text/plain": [
       "<matplotlib.text.Text at 0xb96f240>"
      ]
     },
     "execution_count": 10,
     "metadata": {},
     "output_type": "execute_result"
    },
    {
     "data": {
      "image/png": "[encoded data removed]",
      "text/plain": [
       "<matplotlib.figure.Figure at 0xb6eb9e8>"
      ]
     },
     "metadata": {},
     "output_type": "display_data"
    }
   ],
   "source": [
    "plt.plot(timeVect, x[:,0]*180/np.pi)\n",
    "plt.xlabel(u'čas [s]')\n",
    "plt.ylabel(u'$x_1(t)$ [°]')"
   ]
  },
  {
   "cell_type": "markdown",
   "metadata": {
    "collapsed": true
   },
   "source": [
    "### Ďalšie pokusy...\n",
    "\n",
    "Iné začiatočné podmienky:"
   ]
  },
  {
   "cell_type": "code",
   "execution_count": 11,
   "metadata": {
    "collapsed": false
   },
   "outputs": [
    {
     "data": {
      "text/plain": [
       "<matplotlib.text.Text at 0xbca4278>"
      ]
     },
     "execution_count": 11,
     "metadata": {},
     "output_type": "execute_result"
    },
    {
     "data": {
      "image/png": "[encoded data removed]",
      "text/plain": [
       "<matplotlib.figure.Figure at 0xb96a978>"
      ]
     },
     "metadata": {},
     "output_type": "display_data"
    }
   ],
   "source": [
    "x = odeint(fcn_rovniceKyvadla,\n",
    "           [0.1, 1],\n",
    "           timeVect,\n",
    "           args=(u,),\n",
    "           )\n",
    "\n",
    "plt.plot(timeVect, x[:,0]*180/np.pi)\n",
    "plt.xlabel(u'čas [s]')\n",
    "plt.ylabel(u'$x_1(t)$ [°]')"
   ]
  },
  {
   "cell_type": "markdown",
   "metadata": {},
   "source": [
    "...atď, ponecháva sa na čitateľa."
   ]
  },
  {
   "cell_type": "markdown",
   "metadata": {},
   "source": [
    "#### Nenulový vstup (externý moment sily)\n",
    "\n",
    "Nech napríklad $u = 3$ [kg m$^2$ s$^{-2}$] (pozn.: pre lepšiu názornosť uvažujme začiatočné podmienky nulové)."
   ]
  },
  {
   "cell_type": "code",
   "execution_count": 12,
   "metadata": {
    "collapsed": false
   },
   "outputs": [
    {
     "data": {
      "text/plain": [
       "<matplotlib.text.Text at 0xb40a2b0>"
      ]
     },
     "execution_count": 12,
     "metadata": {},
     "output_type": "execute_result"
    },
    {
     "data": {
      "image/png": "[encoded data removed]",
      "text/plain": [
       "<matplotlib.figure.Figure at 0x18e4c630>"
      ]
     },
     "metadata": {},
     "output_type": "display_data"
    }
   ],
   "source": [
    "u = 3\n",
    "\n",
    "x = odeint(fcn_rovniceKyvadla,\n",
    "           [0, 0],\n",
    "           timeVect,\n",
    "           args=(u,),\n",
    "           )\n",
    "\n",
    "plt.plot(timeVect, x[:,0]*180/np.pi)\n",
    "plt.xlabel(u'čas [s]')\n",
    "plt.ylabel(u'$x_1(t)$ [°]')"
   ]
  },
  {
   "cell_type": "markdown",
   "metadata": {},
   "source": [
    "Zaujímavý prípad je, keď $u = 9,81$ [kg m$^2$ s$^{-2}$] "
   ]
  },
  {
   "cell_type": "code",
   "execution_count": 13,
   "metadata": {
    "collapsed": false
   },
   "outputs": [
    {
     "data": {
      "text/plain": [
       "<matplotlib.text.Text at 0xb456f60>"
      ]
     },
     "execution_count": 13,
     "metadata": {},
     "output_type": "execute_result"
    },
    {
     "data": {
      "image/png": "[encoded data removed]",
      "text/plain": [
       "<matplotlib.figure.Figure at 0x18ecdbe0>"
      ]
     },
     "metadata": {},
     "output_type": "display_data"
    }
   ],
   "source": [
    "u = 9.81\n",
    "\n",
    "x = odeint(fcn_rovniceKyvadla,\n",
    "           [0, 0],\n",
    "           timeVect,\n",
    "           args=(u,),\n",
    "           )\n",
    "\n",
    "plt.plot(timeVect, x[:,0]*180/np.pi)\n",
    "plt.xlabel(u'čas [s]')\n",
    "plt.ylabel(u'$x_1(t)$ [°]')"
   ]
  },
  {
   "cell_type": "markdown",
   "metadata": {},
   "source": [
    "Avšak, lepšie sa to ukáže, ak predĺžime časový vektor (čas simulácie)"
   ]
  },
  {
   "cell_type": "code",
   "execution_count": 14,
   "metadata": {
    "collapsed": false
   },
   "outputs": [
    {
     "data": {
      "text/plain": [
       "<matplotlib.text.Text at 0x1909b7f0>"
      ]
     },
     "execution_count": 14,
     "metadata": {},
     "output_type": "execute_result"
    },
    {
     "data": {
      "image/png": "[encoded data removed]",
      "text/plain": [
       "<matplotlib.figure.Figure at 0xb4ca668>"
      ]
     },
     "metadata": {},
     "output_type": "display_data"
    }
   ],
   "source": [
    "timeVect = np.arange(0, 100, 0.1)\n",
    "\n",
    "x = odeint(fcn_rovniceKyvadla,\n",
    "           [0, 0],\n",
    "           timeVect,\n",
    "           args=(u,),\n",
    "           )\n",
    "\n",
    "plt.plot(timeVect, x[:,0]*180/np.pi)\n",
    "plt.xlabel(u'čas [s]')\n",
    "plt.ylabel(u'$x_1(t)$ [°]')"
   ]
  },
  {
   "cell_type": "markdown",
   "metadata": {},
   "source": [
    "Čo sa stane ak $u = 9,82$ [kg m$^2$ s$^{-2}$]?"
   ]
  },
  {
   "cell_type": "code",
   "execution_count": 15,
   "metadata": {
    "collapsed": false
   },
   "outputs": [
    {
     "data": {
      "text/plain": [
       "<matplotlib.text.Text at 0xb9e37f0>"
      ]
     },
     "execution_count": 15,
     "metadata": {},
     "output_type": "execute_result"
    },
    {
     "data": {
      "image/png": "[encoded data removed]",
      "text/plain": [
       "<matplotlib.figure.Figure at 0xb855860>"
      ]
     },
     "metadata": {},
     "output_type": "display_data"
    }
   ],
   "source": [
    "u = 9.82\n",
    "\n",
    "x = odeint(fcn_rovniceKyvadla,\n",
    "           [0, 0],\n",
    "           timeVect,\n",
    "           args=(u,),\n",
    "           )\n",
    "\n",
    "plt.plot(timeVect, x[:,0]*180/np.pi)\n",
    "plt.xlabel(u'čas [s]')\n",
    "plt.ylabel(u'$x_1(t)$ [°]')"
   ]
  },
  {
   "cell_type": "markdown",
   "metadata": {},
   "source": [
    "# O simulačnej schéme s využitím ODE solvera\n",
    "\n",
    "Simulačnou schémou tu budeme nazývať ucelenú časť kódu, ktorá implementuje takpovediac simuláciu (numerickú simuláciu) nejakého dynamického systému spolu so vstupnými blokmi, s nastavením času, periódy vzorkovania, a podobne - teda tak ako by bola táto simulácia špecifikovaná „simulačnou schémou“, počasto graficky znázorňovanou pomocou základných blokov ako integrátor, násobička, sumátor atď (napr. ako sa to tiež používa v prostredí MATLAB-Simulink).\n",
    "\n",
    "Nech simulačná schéma je programová funkcia, ktorá zrealizuje danú simuláciu, zaznamená veličiny podľa požiadaviek, prípadne iné hodnoty, a tieto nakoniec „vráti“ (budú výstupom programovej funkcie). \n",
    "\n",
    "Jednoduchá simulačná schéma pre simuláciu kyvadla by mohla vyzerať nasledovne:"
   ]
  },
  {
   "cell_type": "code",
   "execution_count": 16,
   "metadata": {
    "collapsed": true
   },
   "outputs": [],
   "source": [
    "def fcn_simSch01(t_start, t_final, T_s, u_tabulka):\n",
    "\n",
    "    #-----------------------------------------\n",
    "    # simulovat sa bude od casu t_start po t_final s periodou vzorkovania T_s\n",
    "    # potom pocet „krokov“ (indexov), v ktorych ziskame „vysledok simulacie“ je:\n",
    "    finalIndex = int(((t_final-t_start)/T_s) + 1)\n",
    "\n",
    "    #-----------------------------------------\n",
    "    # inicializacia vektora pre zapisovanie casu\n",
    "    t_log = np.zeros([finalIndex, 1])\n",
    "    t_log[0,:] = t_start\n",
    "\n",
    "    #-----------------------------------------\n",
    "    #Zaciatocne podmienky simulacie\n",
    "    x_0 = np.zeros(2)\n",
    "\n",
    "    #-----------------------------------------\n",
    "    # inicializacia vektora pre zapisovanie stavoveho vektora dyn systemu\n",
    "    x_log = np.zeros([finalIndex, len(x_0)])\n",
    "    x_log[0,:] = x_0\n",
    "\n",
    "    #-----------------------------------------\n",
    "    # Generovanie vstupneho signalu:\n",
    "    u = np.zeros(t_log.shape)\n",
    "\n",
    "    for idx in range(u.shape[0]):\n",
    "        lastValue = u_tabulka[:,1][u_tabulka[:,0]<=idx*T_s ][-1]\n",
    "        u[idx] = lastValue\n",
    "\n",
    "\n",
    "    #-----------------------------------------\n",
    "    # Hlavny cyklus\n",
    "\n",
    "    timespan = np.zeros(2)\n",
    "    for idx in range(1, int(finalIndex)):\n",
    "\n",
    "        timespan[0] = t_log[idx-1,:]\n",
    "        timespan[1] = t_log[idx-1,:] + T_s\n",
    "\n",
    "        odeOut = odeint(fcn_rovniceKyvadla,\n",
    "                        x_log[idx-1,:],\n",
    "                        timespan,\n",
    "                        args=(u[idx-1,:],)\n",
    "                        )\n",
    "\n",
    "        x_log[idx,:] = odeOut[-1,:]\n",
    "        t_log[idx,:] = timespan[-1]\n",
    "\n",
    "    return [t_log, x_log, u]"
   ]
  },
  {
   "cell_type": "markdown",
   "metadata": {},
   "source": [
    "Uvedená simulačná schéma umožňuje zadefinovať premenlivý signál $u(t)$ počas simulácie. Predpokladá sa, že signál je daný tabuľkou, ktorá predpisuje, od ktorého času má isgnál danú hodnotu. Napríklad, ak od času 0 (od začiatku) má mať signál hodnotu 3 a potom od času 5 má mať signál hodnotu 7, potom „tabuľka“ (pole) vyzerá nasledovne:"
   ]
  },
  {
   "cell_type": "code",
   "execution_count": 17,
   "metadata": {
    "collapsed": true
   },
   "outputs": [],
   "source": [
    "u_tabulka = np.array([\n",
    "                  [0, 3.0],\n",
    "                  [5, 7.0],\n",
    "                 ])"
   ]
  },
  {
   "cell_type": "markdown",
   "metadata": {},
   "source": [
    "Smustime simuláciu so začiatkom v čase 0 do času 10 s periódou vzorkovania 0,1:"
   ]
  },
  {
   "cell_type": "code",
   "execution_count": 18,
   "metadata": {
    "collapsed": true
   },
   "outputs": [],
   "source": [
    "t_log, x_log, u = fcn_simSch01(0, 10, 0.1, u_tabulka)"
   ]
  },
  {
   "cell_type": "markdown",
   "metadata": {},
   "source": [
    "Nakreslime výsledok:"
   ]
  },
  {
   "cell_type": "code",
   "execution_count": 19,
   "metadata": {
    "collapsed": false
   },
   "outputs": [
    {
     "data": {
      "text/plain": [
       "<matplotlib.text.Text at 0x1968d7f0>"
      ]
     },
     "execution_count": 19,
     "metadata": {},
     "output_type": "execute_result"
    },
    {
     "data": {
      "image/png": "[encoded data removed]",
      "text/plain": [
       "<matplotlib.figure.Figure at 0x18e62da0>"
      ]
     },
     "metadata": {},
     "output_type": "display_data"
    }
   ],
   "source": [
    "plt.figure(1)\n",
    "\n",
    "plt.subplot(2,1,1)\n",
    "plt.plot(t_log, x_log[:,0]*180/np.pi, '.k')\n",
    "plt.ylabel(u'$x_1(t)$ [°]')\n",
    "\n",
    "\n",
    "plt.subplot(2,1,2)\n",
    "plt.plot(t_log, u,\n",
    "         '.-r', lw=1.2, ms=5,\n",
    "         drawstyle='steps-post',\n",
    "         )\n",
    "plt.xlabel(u'čas [s]')\n",
    "plt.ylabel(u'$u(t)$ [kg m$^2$ s$^{-2}$]')"
   ]
  }
 ],
 "metadata": {
  "kernelspec": {
   "display_name": "Python 2",
   "language": "python",
   "name": "python2"
  },
  "language_info": {
   "codemirror_mode": {
    "name": "ipython",
    "version": 2
   },
   "file_extension": ".py",
   "mimetype": "text/x-python",
   "name": "python",
   "nbconvert_exporter": "python",
   "pygments_lexer": "ipython2",
   "version": "2.7.13"
  }
 },
 "nbformat": 4,
 "nbformat_minor": 0
}
